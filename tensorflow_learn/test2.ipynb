{
 "cells": [
  {
   "cell_type": "code",
   "execution_count": 15,
   "metadata": {},
   "outputs": [],
   "source": [
    "import pandas as pd\n",
    "import matplotlib.pyplot as plt\n",
    "import tensorflow as tf"
   ]
  },
  {
   "cell_type": "code",
   "execution_count": 7,
   "metadata": {},
   "outputs": [],
   "source": [
    "data = pd.read_csv(r'E:\\GIT远程库学习代码\\python-tensorflow\\tensorflow_learn\\data\\Advertising.csv',index_col=0)"
   ]
  },
  {
   "cell_type": "code",
   "execution_count": 8,
   "metadata": {},
   "outputs": [
    {
     "data": {
      "text/html": [
       "<div>\n",
       "<style scoped>\n",
       "    .dataframe tbody tr th:only-of-type {\n",
       "        vertical-align: middle;\n",
       "    }\n",
       "\n",
       "    .dataframe tbody tr th {\n",
       "        vertical-align: top;\n",
       "    }\n",
       "\n",
       "    .dataframe thead th {\n",
       "        text-align: right;\n",
       "    }\n",
       "</style>\n",
       "<table border=\"1\" class=\"dataframe\">\n",
       "  <thead>\n",
       "    <tr style=\"text-align: right;\">\n",
       "      <th></th>\n",
       "      <th>TV</th>\n",
       "      <th>radio</th>\n",
       "      <th>newspaper</th>\n",
       "      <th>sales</th>\n",
       "    </tr>\n",
       "  </thead>\n",
       "  <tbody>\n",
       "    <tr>\n",
       "      <th>1</th>\n",
       "      <td>230.1</td>\n",
       "      <td>37.8</td>\n",
       "      <td>69.2</td>\n",
       "      <td>22.1</td>\n",
       "    </tr>\n",
       "    <tr>\n",
       "      <th>2</th>\n",
       "      <td>44.5</td>\n",
       "      <td>39.3</td>\n",
       "      <td>45.1</td>\n",
       "      <td>10.4</td>\n",
       "    </tr>\n",
       "    <tr>\n",
       "      <th>3</th>\n",
       "      <td>17.2</td>\n",
       "      <td>45.9</td>\n",
       "      <td>69.3</td>\n",
       "      <td>9.3</td>\n",
       "    </tr>\n",
       "    <tr>\n",
       "      <th>4</th>\n",
       "      <td>151.5</td>\n",
       "      <td>41.3</td>\n",
       "      <td>58.5</td>\n",
       "      <td>18.5</td>\n",
       "    </tr>\n",
       "    <tr>\n",
       "      <th>5</th>\n",
       "      <td>180.8</td>\n",
       "      <td>10.8</td>\n",
       "      <td>58.4</td>\n",
       "      <td>12.9</td>\n",
       "    </tr>\n",
       "    <tr>\n",
       "      <th>...</th>\n",
       "      <td>...</td>\n",
       "      <td>...</td>\n",
       "      <td>...</td>\n",
       "      <td>...</td>\n",
       "    </tr>\n",
       "    <tr>\n",
       "      <th>196</th>\n",
       "      <td>38.2</td>\n",
       "      <td>3.7</td>\n",
       "      <td>13.8</td>\n",
       "      <td>7.6</td>\n",
       "    </tr>\n",
       "    <tr>\n",
       "      <th>197</th>\n",
       "      <td>94.2</td>\n",
       "      <td>4.9</td>\n",
       "      <td>8.1</td>\n",
       "      <td>9.7</td>\n",
       "    </tr>\n",
       "    <tr>\n",
       "      <th>198</th>\n",
       "      <td>177.0</td>\n",
       "      <td>9.3</td>\n",
       "      <td>6.4</td>\n",
       "      <td>12.8</td>\n",
       "    </tr>\n",
       "    <tr>\n",
       "      <th>199</th>\n",
       "      <td>283.6</td>\n",
       "      <td>42.0</td>\n",
       "      <td>66.2</td>\n",
       "      <td>25.5</td>\n",
       "    </tr>\n",
       "    <tr>\n",
       "      <th>200</th>\n",
       "      <td>232.1</td>\n",
       "      <td>8.6</td>\n",
       "      <td>8.7</td>\n",
       "      <td>13.4</td>\n",
       "    </tr>\n",
       "  </tbody>\n",
       "</table>\n",
       "<p>200 rows × 4 columns</p>\n",
       "</div>"
      ],
      "text/plain": [
       "        TV  radio  newspaper  sales\n",
       "1    230.1   37.8       69.2   22.1\n",
       "2     44.5   39.3       45.1   10.4\n",
       "3     17.2   45.9       69.3    9.3\n",
       "4    151.5   41.3       58.5   18.5\n",
       "5    180.8   10.8       58.4   12.9\n",
       "..     ...    ...        ...    ...\n",
       "196   38.2    3.7       13.8    7.6\n",
       "197   94.2    4.9        8.1    9.7\n",
       "198  177.0    9.3        6.4   12.8\n",
       "199  283.6   42.0       66.2   25.5\n",
       "200  232.1    8.6        8.7   13.4\n",
       "\n",
       "[200 rows x 4 columns]"
      ]
     },
     "execution_count": 8,
     "metadata": {},
     "output_type": "execute_result"
    }
   ],
   "source": [
    "data"
   ]
  },
  {
   "cell_type": "code",
   "execution_count": 12,
   "metadata": {},
   "outputs": [
    {
     "data": {
      "image/png": "[encoded data removed]",
      "text/plain": [
       "<Figure size 432x288 with 1 Axes>"
      ]
     },
     "metadata": {
      "needs_background": "light"
     },
     "output_type": "display_data"
    }
   ],
   "source": [
    "plt.scatter(data.newspaper,data.sales);\n",
    "#TV和radio和sales有线性的关系,但newspaper没有"
   ]
  },
  {
   "cell_type": "code",
   "execution_count": 24,
   "metadata": {},
   "outputs": [],
   "source": [
    "y= data.iloc[:,-1]\n",
    "x= data.iloc[:,0:-1]"
   ]
  },
  {
   "cell_type": "code",
   "execution_count": 25,
   "metadata": {},
   "outputs": [],
   "source": [
    "model= tf.keras.Sequential([tf.keras.layers.Dense(10,input_shape=(3,), activation='relu'),\n",
    "                           tf.keras.layers.Dense(1)]\n",
    ")"
   ]
  },
  {
   "cell_type": "code",
   "execution_count": 26,
   "metadata": {},
   "outputs": [
    {
     "name": "stdout",
     "output_type": "stream",
     "text": [
      "Model: \"sequential_1\"\n",
      "_________________________________________________________________\n",
      "Layer (type)                 Output Shape              Param #   \n",
      "=================================================================\n",
      "dense_2 (Dense)              (None, 10)                40        \n",
      "_________________________________________________________________\n",
      "dense_3 (Dense)              (None, 1)                 11        \n",
      "=================================================================\n",
      "Total params: 51\n",
      "Trainable params: 51\n",
      "Non-trainable params: 0\n",
      "_________________________________________________________________\n"
     ]
    }
   ],
   "source": [
    "model.summary()"
   ]
  },
  {
   "cell_type": "code",
   "execution_count": 27,
   "metadata": {},
   "outputs": [],
   "source": [
    "model.compile(optimizer='adam',\n",
    "              loss ='mse'\n",
    ")"
   ]
  },
  {
   "cell_type": "code",
   "execution_count": 28,
   "metadata": {},
   "outputs": [
    {
     "name": "stdout",
     "output_type": "stream",
     "text": [
      "Epoch 1/100\n",
      "7/7 [==============================] - 0s 1ms/step - loss: 4659.9858\n",
      "Epoch 2/100\n",
      "7/7 [==============================] - 0s 1ms/step - loss: 3709.7324\n",
      "Epoch 3/100\n",
      "7/7 [==============================] - 0s 1ms/step - loss: 2922.4106\n",
      "Epoch 4/100\n",
      "7/7 [==============================] - 0s 1ms/step - loss: 2222.1458\n",
      "Epoch 5/100\n",
      "7/7 [==============================] - 0s 1ms/step - loss: 1675.1981\n",
      "Epoch 6/100\n",
      "7/7 [==============================] - 0s 2ms/step - loss: 1223.7646\n",
      "Epoch 7/100\n",
      "7/7 [==============================] - 0s 1ms/step - loss: 903.9054\n",
      "Epoch 8/100\n",
      "7/7 [==============================] - 0s 997us/step - loss: 658.8353\n",
      "Epoch 9/100\n",
      "7/7 [==============================] - 0s 1ms/step - loss: 483.4114\n",
      "Epoch 10/100\n",
      "7/7 [==============================] - 0s 1ms/step - loss: 362.3186\n",
      "Epoch 11/100\n",
      "7/7 [==============================] - 0s 998us/step - loss: 288.2839\n",
      "Epoch 12/100\n",
      "7/7 [==============================] - 0s 1ms/step - loss: 239.0611\n",
      "Epoch 13/100\n",
      "7/7 [==============================] - 0s 1ms/step - loss: 211.1542\n",
      "Epoch 14/100\n",
      "7/7 [==============================] - 0s 1ms/step - loss: 195.9734\n",
      "Epoch 15/100\n",
      "7/7 [==============================] - 0s 1ms/step - loss: 185.4954\n",
      "Epoch 16/100\n",
      "7/7 [==============================] - 0s 1ms/step - loss: 179.0470\n",
      "Epoch 17/100\n",
      "7/7 [==============================] - 0s 1ms/step - loss: 174.5521\n",
      "Epoch 18/100\n",
      "7/7 [==============================] - 0s 1ms/step - loss: 170.2766\n",
      "Epoch 19/100\n",
      "7/7 [==============================] - 0s 1ms/step - loss: 166.2040\n",
      "Epoch 20/100\n",
      "7/7 [==============================] - 0s 1ms/step - loss: 162.1327\n",
      "Epoch 21/100\n",
      "7/7 [==============================] - 0s 1ms/step - loss: 158.1747\n",
      "Epoch 22/100\n",
      "7/7 [==============================] - 0s 1ms/step - loss: 154.3453\n",
      "Epoch 23/100\n",
      "7/7 [==============================] - 0s 1ms/step - loss: 150.7081\n",
      "Epoch 24/100\n",
      "7/7 [==============================] - 0s 1ms/step - loss: 147.3226\n",
      "Epoch 25/100\n",
      "7/7 [==============================] - 0s 1ms/step - loss: 143.7660\n",
      "Epoch 26/100\n",
      "7/7 [==============================] - 0s 1ms/step - loss: 140.5135\n",
      "Epoch 27/100\n",
      "7/7 [==============================] - 0s 1ms/step - loss: 137.2506\n",
      "Epoch 28/100\n",
      "7/7 [==============================] - 0s 1ms/step - loss: 133.6758\n",
      "Epoch 29/100\n",
      "7/7 [==============================] - 0s 1ms/step - loss: 130.3941\n",
      "Epoch 30/100\n",
      "7/7 [==============================] - 0s 1ms/step - loss: 127.1822\n",
      "Epoch 31/100\n",
      "7/7 [==============================] - 0s 1ms/step - loss: 123.9356\n",
      "Epoch 32/100\n",
      "7/7 [==============================] - 0s 1ms/step - loss: 121.2327\n",
      "Epoch 33/100\n",
      "7/7 [==============================] - 0s 1ms/step - loss: 118.2406\n",
      "Epoch 34/100\n",
      "7/7 [==============================] - 0s 1ms/step - loss: 115.3415\n",
      "Epoch 35/100\n",
      "7/7 [==============================] - 0s 1ms/step - loss: 112.6554\n",
      "Epoch 36/100\n",
      "7/7 [==============================] - 0s 1ms/step - loss: 109.8747\n",
      "Epoch 37/100\n",
      "7/7 [==============================] - 0s 1ms/step - loss: 106.7929\n",
      "Epoch 38/100\n",
      "7/7 [==============================] - 0s 1ms/step - loss: 104.1237\n",
      "Epoch 39/100\n",
      "7/7 [==============================] - 0s 1ms/step - loss: 101.5001\n",
      "Epoch 40/100\n",
      "7/7 [==============================] - 0s 1ms/step - loss: 98.7528\n",
      "Epoch 41/100\n",
      "7/7 [==============================] - 0s 997us/step - loss: 95.8611\n",
      "Epoch 42/100\n",
      "7/7 [==============================] - 0s 1ms/step - loss: 93.3918\n",
      "Epoch 43/100\n",
      "7/7 [==============================] - 0s 1ms/step - loss: 91.0839\n",
      "Epoch 44/100\n",
      "7/7 [==============================] - 0s 1ms/step - loss: 88.5747\n",
      "Epoch 45/100\n",
      "7/7 [==============================] - 0s 1ms/step - loss: 86.2860\n",
      "Epoch 46/100\n",
      "7/7 [==============================] - 0s 1ms/step - loss: 83.9652\n",
      "Epoch 47/100\n",
      "7/7 [==============================] - 0s 997us/step - loss: 81.2082\n",
      "Epoch 48/100\n",
      "7/7 [==============================] - 0s 1ms/step - loss: 79.0716\n",
      "Epoch 49/100\n",
      "7/7 [==============================] - 0s 1ms/step - loss: 75.8869\n",
      "Epoch 50/100\n",
      "7/7 [==============================] - 0s 1ms/step - loss: 73.5158\n",
      "Epoch 51/100\n",
      "7/7 [==============================] - 0s 997us/step - loss: 70.8843\n",
      "Epoch 52/100\n",
      "7/7 [==============================] - 0s 1ms/step - loss: 68.6107\n",
      "Epoch 53/100\n",
      "7/7 [==============================] - 0s 1ms/step - loss: 66.2711\n",
      "Epoch 54/100\n",
      "7/7 [==============================] - 0s 1ms/step - loss: 64.1396\n",
      "Epoch 55/100\n",
      "7/7 [==============================] - 0s 1ms/step - loss: 62.0444\n",
      "Epoch 56/100\n",
      "7/7 [==============================] - 0s 1ms/step - loss: 60.1085\n",
      "Epoch 57/100\n",
      "7/7 [==============================] - 0s 1ms/step - loss: 58.0597\n",
      "Epoch 58/100\n",
      "7/7 [==============================] - 0s 997us/step - loss: 56.2709\n",
      "Epoch 59/100\n",
      "7/7 [==============================] - 0s 1ms/step - loss: 54.5086\n",
      "Epoch 60/100\n",
      "7/7 [==============================] - 0s 1ms/step - loss: 52.7735\n",
      "Epoch 61/100\n",
      "7/7 [==============================] - 0s 997us/step - loss: 51.2433\n",
      "Epoch 62/100\n",
      "7/7 [==============================] - 0s 1ms/step - loss: 49.6415\n",
      "Epoch 63/100\n",
      "7/7 [==============================] - 0s 997us/step - loss: 48.1941\n",
      "Epoch 64/100\n",
      "7/7 [==============================] - 0s 997us/step - loss: 46.7155\n",
      "Epoch 65/100\n",
      "7/7 [==============================] - 0s 1ms/step - loss: 45.4884\n",
      "Epoch 66/100\n",
      "7/7 [==============================] - 0s 1ms/step - loss: 43.9227\n",
      "Epoch 67/100\n",
      "7/7 [==============================] - 0s 997us/step - loss: 42.6147\n",
      "Epoch 68/100\n",
      "7/7 [==============================] - 0s 1ms/step - loss: 41.2603\n",
      "Epoch 69/100\n",
      "7/7 [==============================] - 0s 1ms/step - loss: 39.7677\n",
      "Epoch 70/100\n",
      "7/7 [==============================] - 0s 997us/step - loss: 38.4982\n",
      "Epoch 71/100\n",
      "7/7 [==============================] - 0s 1ms/step - loss: 37.2325\n",
      "Epoch 72/100\n",
      "7/7 [==============================] - 0s 1ms/step - loss: 35.8909\n",
      "Epoch 73/100\n",
      "7/7 [==============================] - 0s 997us/step - loss: 33.5204\n",
      "Epoch 74/100\n",
      "7/7 [==============================] - 0s 1ms/step - loss: 30.4669\n",
      "Epoch 75/100\n",
      "7/7 [==============================] - 0s 1ms/step - loss: 27.2480\n",
      "Epoch 76/100\n",
      "7/7 [==============================] - 0s 1ms/step - loss: 24.2664\n",
      "Epoch 77/100\n",
      "7/7 [==============================] - 0s 1ms/step - loss: 22.1127\n",
      "Epoch 78/100\n",
      "7/7 [==============================] - 0s 1ms/step - loss: 19.5116\n",
      "Epoch 79/100\n",
      "7/7 [==============================] - 0s 997us/step - loss: 16.9711\n",
      "Epoch 80/100\n",
      "7/7 [==============================] - 0s 1ms/step - loss: 14.8620\n",
      "Epoch 81/100\n",
      "7/7 [==============================] - 0s 1ms/step - loss: 13.1049\n",
      "Epoch 82/100\n",
      "7/7 [==============================] - 0s 1ms/step - loss: 11.5074\n",
      "Epoch 83/100\n",
      "7/7 [==============================] - 0s 997us/step - loss: 10.2981\n",
      "Epoch 84/100\n",
      "7/7 [==============================] - 0s 1ms/step - loss: 9.2513\n",
      "Epoch 85/100\n",
      "7/7 [==============================] - 0s 1ms/step - loss: 8.3765\n",
      "Epoch 86/100\n",
      "7/7 [==============================] - 0s 1ms/step - loss: 7.7873\n",
      "Epoch 87/100\n",
      "7/7 [==============================] - 0s 1ms/step - loss: 7.0452\n",
      "Epoch 88/100\n",
      "7/7 [==============================] - 0s 1ms/step - loss: 6.5756\n",
      "Epoch 89/100\n",
      "7/7 [==============================] - 0s 1ms/step - loss: 6.1873\n",
      "Epoch 90/100\n",
      "7/7 [==============================] - 0s 997us/step - loss: 5.7765\n",
      "Epoch 91/100\n",
      "7/7 [==============================] - 0s 1ms/step - loss: 5.4344\n",
      "Epoch 92/100\n",
      "7/7 [==============================] - 0s 1ms/step - loss: 5.1282\n",
      "Epoch 93/100\n",
      "7/7 [==============================] - 0s 997us/step - loss: 4.8826\n",
      "Epoch 94/100\n",
      "7/7 [==============================] - 0s 1ms/step - loss: 4.7013\n",
      "Epoch 95/100\n",
      "7/7 [==============================] - 0s 1ms/step - loss: 4.4628\n",
      "Epoch 96/100\n",
      "7/7 [==============================] - 0s 1ms/step - loss: 4.2653\n",
      "Epoch 97/100\n",
      "7/7 [==============================] - 0s 1ms/step - loss: 4.1168\n",
      "Epoch 98/100\n",
      "7/7 [==============================] - 0s 997us/step - loss: 3.9614\n",
      "Epoch 99/100\n",
      "7/7 [==============================] - 0s 1ms/step - loss: 3.8255\n",
      "Epoch 100/100\n",
      "7/7 [==============================] - 0s 1ms/step - loss: 3.7311\n"
     ]
    },
    {
     "data": {
      "text/plain": [
       "<tensorflow.python.keras.callbacks.History at 0x22336fb3b50>"
      ]
     },
     "execution_count": 28,
     "metadata": {},
     "output_type": "execute_result"
    }
   ],
   "source": [
    "model.fit(x,y,epochs=100)"
   ]
  },
  {
   "cell_type": "code",
   "execution_count": 38,
   "metadata": {},
   "outputs": [
    {
     "data": {
      "text/plain": [
       "array([[23.291523 ],\n",
       "       [ 8.287848 ],\n",
       "       [ 9.685903 ],\n",
       "       [19.947182 ],\n",
       "       [14.10027  ],\n",
       "       [ 7.4822087],\n",
       "       [11.8148775],\n",
       "       [10.977901 ],\n",
       "       [ 1.1680131],\n",
       "       [11.128836 ]], dtype=float32)"
      ]
     },
     "execution_count": 38,
     "metadata": {},
     "output_type": "execute_result"
    }
   ],
   "source": [
    "test=data.iloc[:10,0:-1]\n",
    "#测试数据\n",
    "model.predict(test)"
   ]
  },
  {
   "cell_type": "code",
   "execution_count": 37,
   "metadata": {},
   "outputs": [
    {
     "data": {
      "text/plain": [
       "1     22.1\n",
       "2     10.4\n",
       "3      9.3\n",
       "4     18.5\n",
       "5     12.9\n",
       "6      7.2\n",
       "7     11.8\n",
       "8     13.2\n",
       "9      4.8\n",
       "10    10.6\n",
       "Name: sales, dtype: float64"
      ]
     },
     "execution_count": 37,
     "metadata": {},
     "output_type": "execute_result"
    }
   ],
   "source": [
    "test= data.iloc[:10,-1]\n",
    "#原来前十行的sales\n",
    "test"
   ]
  },
  {
   "cell_type": "code",
   "execution_count": null,
   "metadata": {},
   "outputs": [],
   "source": []
  },
  {
   "cell_type": "code",
   "execution_count": null,
   "metadata": {},
   "outputs": [],
   "source": []
  }
 ],
 "metadata": {
  "kernelspec": {
   "display_name": "Python 3",
   "language": "python",
   "name": "python3"
  },
  "language_info": {
   "codemirror_mode": {
    "name": "ipython",
    "version": 3
   },
   "file_extension": ".py",
   "mimetype": "text/x-python",
   "name": "python",
   "nbconvert_exporter": "python",
   "pygments_lexer": "ipython3",
   "version": "3.8.3"
  }
 },
 "nbformat": 4,
 "nbformat_minor": 4
}
